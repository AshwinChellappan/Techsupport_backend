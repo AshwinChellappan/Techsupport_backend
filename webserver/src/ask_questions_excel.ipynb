{
 "cells": [
  {
   "cell_type": "code",
   "execution_count": 13,
   "metadata": {},
   "outputs": [],
   "source": [
    "import requests\n",
    "import datetime\n",
    "import pandas as pd"
   ]
  },
  {
   "cell_type": "code",
   "execution_count": 14,
   "metadata": {},
   "outputs": [],
   "source": [
    "question_file = \"data/FlukeGPT_testing_report.csv\"\n",
    "out_file = \"data/FlukeGPT_testing_report_copy.csv\"\n",
    "ques_colname = \"Question\"\n",
    "API_ENDPOINT = \"http://127.0.0.1:8000/v2/chat/completions\""
   ]
  },
  {
   "cell_type": "code",
   "execution_count": 7,
   "metadata": {},
   "outputs": [
    {
     "data": {
      "text/html": [
       "<div>\n",
       "<style scoped>\n",
       "    .dataframe tbody tr th:only-of-type {\n",
       "        vertical-align: middle;\n",
       "    }\n",
       "\n",
       "    .dataframe tbody tr th {\n",
       "        vertical-align: top;\n",
       "    }\n",
       "\n",
       "    .dataframe thead th {\n",
       "        text-align: right;\n",
       "    }\n",
       "</style>\n",
       "<table border=\"1\" class=\"dataframe\">\n",
       "  <thead>\n",
       "    <tr style=\"text-align: right;\">\n",
       "      <th></th>\n",
       "      <th>Chunking Logic</th>\n",
       "      <th>Prompt</th>\n",
       "      <th>Use Case</th>\n",
       "      <th>Question</th>\n",
       "    </tr>\n",
       "  </thead>\n",
       "  <tbody>\n",
       "    <tr>\n",
       "      <th>0</th>\n",
       "      <td>NaN</td>\n",
       "      <td>You don't engage on unrelated topics. \\n    Ke...</td>\n",
       "      <td>UC1005</td>\n",
       "      <td>How do I request service for my Fluke multimeter?</td>\n",
       "    </tr>\n",
       "    <tr>\n",
       "      <th>1</th>\n",
       "      <td>NaN</td>\n",
       "      <td>You don't engage on unrelated topics. \\n    Ke...</td>\n",
       "      <td>UC1005</td>\n",
       "      <td>Can you guide me through the process of sendin...</td>\n",
       "    </tr>\n",
       "    <tr>\n",
       "      <th>2</th>\n",
       "      <td>NaN</td>\n",
       "      <td>You don't engage on unrelated topics. \\n    Ke...</td>\n",
       "      <td>UC1005</td>\n",
       "      <td>I own a Fluke oscilloscope. How can I arrange ...</td>\n",
       "    </tr>\n",
       "    <tr>\n",
       "      <th>3</th>\n",
       "      <td>NaN</td>\n",
       "      <td>You don't engage on unrelated topics. \\n    Ke...</td>\n",
       "      <td>UC1005</td>\n",
       "      <td>What's the turnaround time for servicing a Flu...</td>\n",
       "    </tr>\n",
       "    <tr>\n",
       "      <th>4</th>\n",
       "      <td>NaN</td>\n",
       "      <td>You don't engage on unrelated topics. \\n    Ke...</td>\n",
       "      <td>UC1005</td>\n",
       "      <td>My Fluke power quality analyzer needs attentio...</td>\n",
       "    </tr>\n",
       "  </tbody>\n",
       "</table>\n",
       "</div>"
      ],
      "text/plain": [
       "   Chunking Logic                                             Prompt Use Case  \\\n",
       "0             NaN  You don't engage on unrelated topics. \\n    Ke...   UC1005   \n",
       "1             NaN  You don't engage on unrelated topics. \\n    Ke...   UC1005   \n",
       "2             NaN  You don't engage on unrelated topics. \\n    Ke...   UC1005   \n",
       "3             NaN  You don't engage on unrelated topics. \\n    Ke...   UC1005   \n",
       "4             NaN  You don't engage on unrelated topics. \\n    Ke...   UC1005   \n",
       "\n",
       "                                            Question  \n",
       "0  How do I request service for my Fluke multimeter?  \n",
       "1  Can you guide me through the process of sendin...  \n",
       "2  I own a Fluke oscilloscope. How can I arrange ...  \n",
       "3  What's the turnaround time for servicing a Flu...  \n",
       "4  My Fluke power quality analyzer needs attentio...  "
      ]
     },
     "execution_count": 7,
     "metadata": {},
     "output_type": "execute_result"
    }
   ],
   "source": [
    "q_df = pd.read_csv(question_file)\n",
    "q_df.head()"
   ]
  },
  {
   "cell_type": "code",
   "execution_count": 24,
   "metadata": {},
   "outputs": [
    {
     "name": "stdout",
     "output_type": "stream",
     "text": [
      "0\n",
      "hiiiii\n",
      "To request service for your Fluke multimeter, you can initiate the process to obtain a Return Material Authorization (RMA) number online at any time. With an online RMA, you can track the status of your order as it moves through the system. For comprehensive information on making a request for calibration and/or repair services, visit the Calibration and Repair Services page on the Fluke website. Additionally, you can find manuals for Fluke Calibration instruments available for free download on the Product Manuals page. \n"
     ]
    },
    {
     "ename": "AttributeError",
     "evalue": "'dict' object has no attribute 'content'",
     "output_type": "error",
     "traceback": [
      "\u001b[0;31m---------------------------------------------------------------------------\u001b[0m",
      "\u001b[0;31mAttributeError\u001b[0m                            Traceback (most recent call last)",
      "Cell \u001b[0;32mIn[24], line 35\u001b[0m\n\u001b[1;32m     33\u001b[0m     \u001b[39mprint\u001b[39m(\u001b[39m\"\u001b[39m\u001b[39mhiiiii\u001b[39m\u001b[39m\"\u001b[39m)\n\u001b[1;32m     34\u001b[0m     \u001b[39mprint\u001b[39m(r\u001b[39m.\u001b[39mjson()[\u001b[39m'\u001b[39m\u001b[39mchoices\u001b[39m\u001b[39m'\u001b[39m][\u001b[39m0\u001b[39m][\u001b[39m'\u001b[39m\u001b[39mmessage\u001b[39m\u001b[39m'\u001b[39m][\u001b[39m'\u001b[39m\u001b[39mcontent\u001b[39m\u001b[39m'\u001b[39m])\n\u001b[0;32m---> 35\u001b[0m     q_df\u001b[39m.\u001b[39mloc[i, \u001b[39m'\u001b[39m\u001b[39manswer\u001b[39m\u001b[39m'\u001b[39m] \u001b[39m=\u001b[39m r\u001b[39m.\u001b[39;49mjson()[\u001b[39m'\u001b[39;49m\u001b[39mchoices\u001b[39;49m\u001b[39m'\u001b[39;49m][\u001b[39m0\u001b[39;49m][\u001b[39m'\u001b[39;49m\u001b[39mmessage\u001b[39;49m\u001b[39m'\u001b[39;49m]\u001b[39m.\u001b[39;49mcontent\n\u001b[1;32m     36\u001b[0m     q_df\u001b[39m.\u001b[39mloc[i, \u001b[39m'\u001b[39m\u001b[39mintent\u001b[39m\u001b[39m'\u001b[39m] \u001b[39m=\u001b[39m r\u001b[39m.\u001b[39mjson()[\u001b[39m'\u001b[39m\u001b[39manswer\u001b[39m\u001b[39m'\u001b[39m][\u001b[39m'\u001b[39m\u001b[39mintent\u001b[39m\u001b[39m'\u001b[39m]\n\u001b[1;32m     38\u001b[0m \u001b[39mprint\u001b[39m(\u001b[39m\"\u001b[39m\u001b[39mDONE!!\u001b[39m\u001b[39m\"\u001b[39m)\n",
      "\u001b[0;31mAttributeError\u001b[0m: 'dict' object has no attribute 'content'"
     ]
    }
   ],
   "source": [
    "if 'answer' in q_df.columns:\n",
    "    start = min(q_df.loc[q_df['answer'].isna(), :].index)\n",
    "else:\n",
    "    start = 0\n",
    "\n",
    "headers={\n",
    "    'Content-type':'application/json', \n",
    "    'Accept':'application/json'\n",
    "}\n",
    "\n",
    "for i in range(start, len(q_df)):\n",
    "    print(i)\n",
    "    now = datetime.datetime.now()\n",
    "    timestamp = int(now.timestamp())\n",
    "    \n",
    "    data = {\n",
    "    \"chatId\": \"47f6150d-4258-48f3-beaf-5ae65fadb4dc\",\n",
    "    \"messages\": [\n",
    "        {\n",
    "            \"role\": \"system\",\n",
    "            \"content\": \"Your name is FlukeGPT, and you are a chat bot that responds to user queries regarding specialized data sources. \\nInformation and data pertinent to these queries will be provided by system context that is provided to you before you respond to user questions. \"\n",
    "        },\n",
    "        {\n",
    "            \"role\": \"user\",\n",
    "            \"content\": q_df.loc[i, ques_colname]\n",
    "        }\n",
    "    ],\n",
    "    \"model\": \"GPT-16k\",\n",
    "    \"stream\": False\n",
    "}\n",
    "\n",
    "    r = requests.post(url=API_ENDPOINT, json=data, headers=headers)\n",
    "    q_df.loc[i, 'answer'] = r.json()['choices'][0]['message']['content']\n",
    "    \n",
    "\n",
    "print(\"DONE!!\")"
   ]
  },
  {
   "cell_type": "code",
   "execution_count": null,
   "metadata": {},
   "outputs": [],
   "source": [
    "q_df.shape"
   ]
  },
  {
   "cell_type": "code",
   "execution_count": null,
   "metadata": {},
   "outputs": [],
   "source": [
    "q_df.to_excel(out_file, index=False)"
   ]
  },
  {
   "cell_type": "code",
   "execution_count": null,
   "metadata": {},
   "outputs": [],
   "source": []
  }
 ],
 "metadata": {
  "kernelspec": {
   "display_name": ".delphivenv",
   "language": "python",
   "name": "python3"
  },
  "language_info": {
   "codemirror_mode": {
    "name": "ipython",
    "version": 3
   },
   "file_extension": ".py",
   "mimetype": "text/x-python",
   "name": "python",
   "nbconvert_exporter": "python",
   "pygments_lexer": "ipython3",
   "version": "3.11.4"
  },
  "orig_nbformat": 4
 },
 "nbformat": 4,
 "nbformat_minor": 2
}
