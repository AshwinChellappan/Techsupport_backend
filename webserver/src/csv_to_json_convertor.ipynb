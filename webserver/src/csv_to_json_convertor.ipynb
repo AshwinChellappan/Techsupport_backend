{
 "cells": [
  {
   "cell_type": "code",
   "execution_count": 1,
   "metadata": {},
   "outputs": [],
   "source": [
    "import pandas as pd\n",
    "import csv\n",
    "import json"
   ]
  },
  {
   "cell_type": "code",
   "execution_count": 5,
   "metadata": {},
   "outputs": [],
   "source": [
    "def csv_to_json(csv_file_path, json_file_path):\n",
    "    #create a dictionary\n",
    "    data = []\n",
    "\n",
    "    # Read data from the CSV file\n",
    "    with open(csv_file_path, 'r',encoding='utf-8-sig') as csv_file:\n",
    "        csv_reader = csv.DictReader(csv_file)\n",
    "        for row in csv_reader:\n",
    "            data.append(row)\n",
    "\n",
    "    print('data dictionary created')\n",
    "    \n",
    "    # Write the data to a JSON file\n",
    "    with open(json_file_path, 'w') as json_file:\n",
    "        json.dump(data, json_file, indent=4)\n",
    "    \n",
    "    print(f'CSV file \"{csv_file_path}\" has been converted to JSON file \"{json_file_path}\".')\n",
    "\n",
    "\n",
    " \n",
    "   "
   ]
  },
  {
   "cell_type": "code",
   "execution_count": 6,
   "metadata": {},
   "outputs": [
    {
     "name": "stdout",
     "output_type": "stream",
     "text": [
      "data dictionary created\n",
      "CSV file \"./data/price_list.csv\" has been converted to JSON file \"./data/price_list_output.json\".\n"
     ]
    }
   ],
   "source": [
    "#driver code\n",
    "#be careful while providing the path of the csv file\n",
    "#provide the file path relative to your machine\n",
    " \n",
    "#Step 1\n",
    "csv_file_path = './data/price_list.csv'\n",
    "json_file_path = './data/price_list_output.json'\n",
    " \n",
    "csv_to_json(csv_file_path, json_file_path)"
   ]
  }
 ],
 "metadata": {
  "kernelspec": {
   "display_name": "fluke_env",
   "language": "python",
   "name": "python3"
  },
  "language_info": {
   "codemirror_mode": {
    "name": "ipython",
    "version": 3
   },
   "file_extension": ".py",
   "mimetype": "text/x-python",
   "name": "python",
   "nbconvert_exporter": "python",
   "pygments_lexer": "ipython3",
   "version": "3.11.4"
  },
  "orig_nbformat": 4
 },
 "nbformat": 4,
 "nbformat_minor": 2
}
