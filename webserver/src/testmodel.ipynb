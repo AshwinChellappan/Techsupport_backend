{
 "cells": [
  {
   "cell_type": "code",
   "execution_count": 3,
   "metadata": {},
   "outputs": [],
   "source": [
    "import requests\n",
    "import pandas as pd\n",
    "\n",
    "url = 'https://flk-apim-sitegpt-dev-001.azure-api.net/flk-delphiapi-sitegpt-dev-001/v2/chat/completions'\n",
    "#change the token, it may expire after sometime\n",
    "token = '4b5c1779b5e94025934dcbce9c5174bd'\n",
    "df  =  pd.read_excel(\"data/questions.xlsx\")\n",
    "questions = list(df['Prompt'])"
   ]
  },
  {
   "cell_type": "code",
   "execution_count": 4,
   "metadata": {},
   "outputs": [
    {
     "name": "stdout",
     "output_type": "stream",
     "text": [
      "coming here\n",
      "Done 0\n",
      "coming here\n",
      "Done 1\n",
      "coming here\n",
      "Done 2\n",
      "coming here\n",
      "Done 3\n",
      "coming here\n",
      "Done 4\n",
      "coming here\n",
      "Done 5\n",
      "coming here\n",
      "Done 6\n"
     ]
    }
   ],
   "source": [
    "output_df = pd.DataFrame()\n",
    "Question, Answer = [], []\n",
    "n =0\n",
    "for question in questions:\n",
    "    url = url\n",
    "    data = {\n",
    "            \"chatId\": \"28054cc5-a741-4c4f-8e82-f73063843d41\",\n",
    "            \"siteInfo\": {\n",
    "                \"domain\": \"flukenetworks\"\n",
    "            },\n",
    "            \"messages\": [\n",
    "                {\n",
    "                    \"role\": \"user\",\n",
    "                    \"content\": question\n",
    "                }\n",
    "            ],\n",
    "            \"model\": \"gpt-35-turbo\",\n",
    "            \"stream\": False\n",
    "            }\n",
    "    # data = {\n",
    "    #         \"chatId\": \"28054cc5-a741-4c4f-8e82-f73063843d41\",\n",
    "    #         \"siteInfo\": {\n",
    "    #             \"domain\": \"fluke\"  \n",
    "    #         },\n",
    "    #         \"messages\": [\n",
    "    #             {\n",
    "    #                 \"role\": \"user\",\n",
    "    #                 \"content\": question\n",
    "    #             }\n",
    "    #         ],\n",
    "    #         \"model\": \"gpt-35-turbo\",\n",
    "    #         \"stream\": False\n",
    "    #     }\n",
    "    token = token\n",
    "    headers = {     \n",
    "        \"Content-Type\": \"application/json\",     \n",
    "        \"Ocp-Apim-Subscription-Key\": token}\n",
    "    # headers = {\n",
    "    #     'Authorization': f'Bearer {token}',\n",
    "    #     'Content-Type': 'application/json'\n",
    "    # }\n",
    "    response = requests.post(url, json=data, headers=headers)\n",
    "    if response.status_code ==401:\n",
    "        print(\"update the token\")\n",
    "        break\n",
    "    if response.status_code == 200:\n",
    "        print(\"coming here\")\n",
    "        Question.append(question)\n",
    "        Answer.append(response.json()['choices'][0]['message']['content'])\n",
    "        print(f'Done {n}')\n",
    "        n += 1\n",
    "output_df['Question'] = Question\n",
    "output_df['Answer']= Answer\n",
    "output_df.to_csv(\"data/answered_prompt.csv\")"
   ]
  },
  {
   "cell_type": "code",
   "execution_count": null,
   "metadata": {},
   "outputs": [],
   "source": []
  }
 ],
 "metadata": {
  "kernelspec": {
   "display_name": "Python 3",
   "language": "python",
   "name": "python3"
  },
  "language_info": {
   "codemirror_mode": {
    "name": "ipython",
    "version": 3
   },
   "file_extension": ".py",
   "mimetype": "text/x-python",
   "name": "python",
   "nbconvert_exporter": "python",
   "pygments_lexer": "ipython3",
   "version": "3.11.5"
  },
  "orig_nbformat": 4
 },
 "nbformat": 4,
 "nbformat_minor": 2
}
